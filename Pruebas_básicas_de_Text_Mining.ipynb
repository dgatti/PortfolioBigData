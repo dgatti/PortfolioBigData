{
  "nbformat": 4,
  "nbformat_minor": 0,
  "metadata": {
    "colab": {
      "name": "Pruebas básicas de Text Mining.ipynb",
      "provenance": [],
      "mount_file_id": "1Uy4FrzTQIvmbGyi1ItaloUnK3e6XsXNY",
      "authorship_tag": "ABX9TyMfiQ/D/KsbU70BuDTtfdxL",
      "include_colab_link": true
    },
    "kernelspec": {
      "name": "python3",
      "display_name": "Python 3"
    },
    "language_info": {
      "name": "python"
    }
  },
  "cells": [
    {
      "cell_type": "markdown",
      "metadata": {
        "id": "view-in-github",
        "colab_type": "text"
      },
      "source": [
        "<a href=\"https://colab.research.google.com/github/dgatti/PortfolioBigData/blob/main/Pruebas_b%C3%A1sicas_de_Text_Mining.ipynb\" target=\"_parent\"><img src=\"https://colab.research.google.com/assets/colab-badge.svg\" alt=\"Open In Colab\"/></a>"
      ]
    },
    {
      "cell_type": "code",
      "metadata": {
        "id": "BfCtwxsnebhZ"
      },
      "source": [
        "import numpy as np\n",
        "import pandas as pd\n",
        "import matplotlib.pyplot as plt\n",
        "from sklearn import svm, datasets, tree\n",
        "from sklearn.model_selection import train_test_split\n",
        "from sklearn.metrics import accuracy_score"
      ],
      "execution_count": 1,
      "outputs": []
    },
    {
      "cell_type": "markdown",
      "metadata": {
        "id": "lo_Pm2RWqsfB"
      },
      "source": [
        "## **Prueba de funciones sueltas de NLTK**"
      ]
    },
    {
      "cell_type": "code",
      "metadata": {
        "colab": {
          "base_uri": "https://localhost:8080/"
        },
        "id": "omY-io65fkv2",
        "outputId": "59a39c53-90e7-41bf-a22c-9e7936097b3c"
      },
      "source": [
        "import nltk\n",
        "nltk.download('stopwords')\n",
        "from nltk.corpus import stopwords #Libreria que permite dar tratamiento a palabras que aparecen en un texto de manera frecuente pero que no aportan informaciòn"
      ],
      "execution_count": 2,
      "outputs": [
        {
          "output_type": "stream",
          "name": "stdout",
          "text": [
            "[nltk_data] Downloading package stopwords to /root/nltk_data...\n",
            "[nltk_data]   Unzipping corpora/stopwords.zip.\n"
          ]
        }
      ]
    },
    {
      "cell_type": "code",
      "metadata": {
        "id": "Ivz10d40gI7f"
      },
      "source": [
        "SW=stopwords.words(\"spanish\") #Entre esas palsabras que no aportan informaciòn estàn las stop words. Las recupero en una variable\n",
        "print(SW)"
      ],
      "execution_count": 4,
      "outputs": []
    },
    {
      "cell_type": "code",
      "metadata": {
        "id": "7Fp8EhO-hy6X"
      },
      "source": [
        "from nltk.stem import SnowballStemmer"
      ],
      "execution_count": 6,
      "outputs": []
    },
    {
      "cell_type": "code",
      "metadata": {
        "colab": {
          "base_uri": "https://localhost:8080/",
          "height": 35
        },
        "id": "8Hajw7Rph_XQ",
        "outputId": "0de080d7-b617-4d74-a95d-1d32a0204c87"
      },
      "source": [
        "stemer=SnowballStemmer(\"spanish\")\n",
        "stemer.stem(\"comunicado\") #acà lo que se hace es buscar para una palabra en spanish la palabra base o raíz de lo que son palabras parecidas y que no van a tiener relevancia.\n",
        "#Por ejemplo la base de comunicado, comunica, comunicar, comunicaciòn....."
      ],
      "execution_count": 7,
      "outputs": [
        {
          "output_type": "execute_result",
          "data": {
            "application/vnd.google.colaboratory.intrinsic+json": {
              "type": "string"
            },
            "text/plain": [
              "'comunic'"
            ]
          },
          "metadata": {},
          "execution_count": 7
        }
      ]
    },
    {
      "cell_type": "code",
      "metadata": {
        "id": "a7872n_Ak5sY"
      },
      "source": [
        "nltk.download('book')"
      ],
      "execution_count": null,
      "outputs": []
    },
    {
      "cell_type": "code",
      "metadata": {
        "id": "W5Ai6grhlBbG"
      },
      "source": [
        "from nltk.book import *"
      ],
      "execution_count": null,
      "outputs": []
    },
    {
      "cell_type": "code",
      "metadata": {
        "id": "IupOCCGVnV20"
      },
      "source": [
        "text1.concordance(\"night\") #Dentro del texto en text1 busca la palabra night para saber por ejemplo cuantas veces se repite"
      ],
      "execution_count": null,
      "outputs": []
    },
    {
      "cell_type": "code",
      "metadata": {
        "colab": {
          "base_uri": "https://localhost:8080/",
          "height": 294
        },
        "id": "hl6dtaoqpIFq",
        "outputId": "970f75e1-ca6d-4a50-c2bb-64b98d619f14"
      },
      "source": [
        "text4.dispersion_plot([\"citizen\", \"America\", \"democracy\", \"freedom\"]) #Se grafica la disperciòn de las palabras en el array dentro de text4"
      ],
      "execution_count": 17,
      "outputs": [
        {
          "output_type": "display_data",
          "data": {
            "image/png": "[encoded data removed]",
            "text/plain": [
              "<Figure size 432x288 with 1 Axes>"
            ]
          },
          "metadata": {
            "needs_background": "light"
          }
        }
      ]
    },
    {
      "cell_type": "code",
      "metadata": {
        "colab": {
          "base_uri": "https://localhost:8080/"
        },
        "id": "wipv4C9Tqn3Y",
        "outputId": "745041f3-1988-49bf-86b2-4bf570364093"
      },
      "source": [
        "#Buscamos las palabras que tienen mayor significancia dentro del texto o palabras màs representativas. Ayuda a reconocer autores de libros por su estilo de escritura\n",
        "Significancia=FreqDist(text1) #para todas las palabras de text1 recupera las que tienen mayor significacnia y retorna una array de frecuencia\n",
        "Significancia[\"body\"] #Cuantas veces aparece la palabra Body. Obtenemos el dato del array generado"
      ],
      "execution_count": 24,
      "outputs": [
        {
          "output_type": "execute_result",
          "data": {
            "text/plain": [
              "110"
            ]
          },
          "metadata": {},
          "execution_count": 24
        }
      ]
    },
    {
      "cell_type": "code",
      "metadata": {
        "colab": {
          "base_uri": "https://localhost:8080/",
          "height": 291
        },
        "id": "flqCuWjdjS9X",
        "outputId": "65fb576f-2c11-407b-cb74-9e1398d90e6f"
      },
      "source": [
        "Significancia.plot(25) #grafico con las 25 palabras que màs se repiten. Se observa que son todas stopwords (the, and, ok, a, to....). No representan muy bien al texto. Si las eliminamos?"
      ],
      "execution_count": 25,
      "outputs": [
        {
          "output_type": "display_data",
          "data": {
            "image/png": "[encoded data removed]",
            "text/plain": [
              "<Figure size 432x288 with 1 Axes>"
            ]
          },
          "metadata": {
            "needs_background": "light"
          }
        }
      ]
    },
    {
      "cell_type": "code",
      "metadata": {
        "id": "qOZfg6p2r8WP"
      },
      "source": [
        "SW=stopwords.words(\"english\")"
      ],
      "execution_count": 26,
      "outputs": []
    },
    {
      "cell_type": "code",
      "metadata": {
        "id": "V56jUBZ5sDdf"
      },
      "source": [
        "Texto_Filtrado=[palabra for palabra in text1 if palabra not in SW]"
      ],
      "execution_count": 28,
      "outputs": []
    },
    {
      "cell_type": "code",
      "metadata": {
        "colab": {
          "base_uri": "https://localhost:8080/"
        },
        "id": "YeFUrmp7tDPt",
        "outputId": "e56f58c4-3e13-4955-94d4-8b889d42713a"
      },
      "source": [
        "len(text1)-len(Texto_Filtrado) #elimina 99 mil palabras que no significan nada"
      ],
      "execution_count": 30,
      "outputs": [
        {
          "output_type": "execute_result",
          "data": {
            "text/plain": [
              "99541"
            ]
          },
          "metadata": {},
          "execution_count": 30
        }
      ]
    },
    {
      "cell_type": "code",
      "metadata": {
        "colab": {
          "base_uri": "https://localhost:8080/",
          "height": 298
        },
        "id": "Zcd1yN8WtG7s",
        "outputId": "265263a5-1d2e-433e-9a25-c3e1008d967e"
      },
      "source": [
        "Significancia_Filtrada=FreqDist(Texto_Filtrado)\n",
        "Significancia_Filtrada.plot(25) #si bien ahora habrìa que eliminar los signos de puntuaciòn, ya se observa que son otras las palabras que màs se repiten, palabras útilis para el análisis"
      ],
      "execution_count": 31,
      "outputs": [
        {
          "output_type": "display_data",
          "data": {
            "image/png": "[encoded data removed]",
            "text/plain": [
              "<Figure size 432x288 with 1 Axes>"
            ]
          },
          "metadata": {
            "needs_background": "light"
          }
        }
      ]
    },
    {
      "cell_type": "markdown",
      "metadata": {
        "id": "eFKff15zwSp0"
      },
      "source": [
        "## **Jugamos con el armado de listas y graficamos frecuencia de ocurrencia de palabras en un set de datos de reseñas de pelìculas**"
      ]
    },
    {
      "cell_type": "code",
      "metadata": {
        "id": "k3mA06LSuWdC"
      },
      "source": [
        "from nltk.corpus import movie_reviews #importa un set de datos que posee textos con reseñas negativas y positivas de una pelicula"
      ],
      "execution_count": 32,
      "outputs": []
    },
    {
      "cell_type": "code",
      "metadata": {
        "colab": {
          "base_uri": "https://localhost:8080/"
        },
        "id": "riTxq98EuSAK",
        "outputId": "7f7b7d8b-1005-4ca7-cbca-a24ef3ccef1c"
      },
      "source": [
        "len(movie_reviews.fileids()) #ID asociados a cada reseña (neg y pos) y la cantidad de reseñas"
      ],
      "execution_count": 34,
      "outputs": [
        {
          "output_type": "execute_result",
          "data": {
            "text/plain": [
              "2000"
            ]
          },
          "metadata": {},
          "execution_count": 34
        }
      ]
    },
    {
      "cell_type": "code",
      "metadata": {
        "id": "oyMuTIWQxDJE"
      },
      "source": [
        "reseña_negativa=movie_reviews.fileids(\"neg\")\n",
        "reseña_positiva=movie_reviews.fileids(\"pos\")\n",
        "#genera listas con las reseñas negativas y otra con las positivas"
      ],
      "execution_count": 35,
      "outputs": []
    },
    {
      "cell_type": "code",
      "metadata": {
        "colab": {
          "base_uri": "https://localhost:8080/"
        },
        "id": "-R0vqatlxbnJ",
        "outputId": "93738ea9-cd6d-449a-da07-4da332ac71f0"
      },
      "source": [
        "movie_reviews.words(fileids=reseña_negativa[0]) #es una forma de tokenizar un texto, usando la funciòn words, arma una lista con las palabras que lo componene, separando palabra por palabra"
      ],
      "execution_count": 38,
      "outputs": [
        {
          "output_type": "execute_result",
          "data": {
            "text/plain": [
              "['plot', ':', 'two', 'teen', 'couples', 'go', 'to', ...]"
            ]
          },
          "metadata": {},
          "execution_count": 38
        }
      ]
    },
    {
      "cell_type": "code",
      "metadata": {
        "colab": {
          "base_uri": "https://localhost:8080/"
        },
        "id": "yo8SW7PKydNP",
        "outputId": "91152fcc-f556-45c4-abcb-9589deeb42cf"
      },
      "source": [
        "nltk.download(\"stopwords\")"
      ],
      "execution_count": 39,
      "outputs": [
        {
          "output_type": "stream",
          "name": "stdout",
          "text": [
            "[nltk_data] Downloading package stopwords to /root/nltk_data...\n",
            "[nltk_data]   Package stopwords is already up-to-date!\n"
          ]
        },
        {
          "output_type": "execute_result",
          "data": {
            "text/plain": [
              "True"
            ]
          },
          "metadata": {},
          "execution_count": 39
        }
      ]
    },
    {
      "cell_type": "code",
      "metadata": {
        "colab": {
          "base_uri": "https://localhost:8080/",
          "height": 35
        },
        "id": "XCp_2c6TyelO",
        "outputId": "1b58eac1-596c-4ff8-c88b-570eca399d14"
      },
      "source": [
        "import string #libreria tiene una clase llamada puntuation. Lista de caracteres con los signos de puntuacion\n",
        "string.punctuation"
      ],
      "execution_count": 41,
      "outputs": [
        {
          "output_type": "execute_result",
          "data": {
            "application/vnd.google.colaboratory.intrinsic+json": {
              "type": "string"
            },
            "text/plain": [
              "'!\"#$%&\\'()*+,-./:;<=>?@[\\\\]^_`{|}~'"
            ]
          },
          "metadata": {},
          "execution_count": 41
        }
      ]
    },
    {
      "cell_type": "code",
      "metadata": {
        "id": "SnGpOaxGynn3"
      },
      "source": [
        "palabras_inutiles=stopwords.words(\"english\")+list(string.punctuation) #arma una lista unica que contiene las stopwords en ingles y los signos de puntuacion. para luego usar esta lista para eliminar estos elementos que no aportan informacion en la reseña"
      ],
      "execution_count": 42,
      "outputs": []
    },
    {
      "cell_type": "code",
      "metadata": {
        "id": "kcMvBY6Y0_n6"
      },
      "source": [
        "palabras_filtradas=[] #inicialista un array vacio\n",
        "for palabra in movie_reviews.words():\n",
        "  if palabra not in palabras_inutiles:\n",
        "    palabras_filtradas.append(palabra) #genera un array con las palabras del texto/reseñas, tokenizando con .words, que contiene las palabras que son utiles para el analisis. Cada registro del array es una palabra"
      ],
      "execution_count": 44,
      "outputs": []
    },
    {
      "cell_type": "code",
      "metadata": {
        "id": "LLqOlCLk2XH5"
      },
      "source": [
        "len(palabras_filtradas)"
      ],
      "execution_count": null,
      "outputs": []
    },
    {
      "cell_type": "code",
      "metadata": {
        "id": "rgsCDWCH2ZeB"
      },
      "source": [
        "from collections import Counter #para hacer conteo y ordenamiento de frecuencias de las palabras"
      ],
      "execution_count": 46,
      "outputs": []
    },
    {
      "cell_type": "code",
      "metadata": {
        "id": "xyOCIZqb2f0B"
      },
      "source": [
        "contador_palabras=Counter(palabras_filtradas) #crea una lista donde cada registro es la cantidad de veces que se repite cada palabra dentro del array"
      ],
      "execution_count": 52,
      "outputs": []
    },
    {
      "cell_type": "code",
      "metadata": {
        "colab": {
          "base_uri": "https://localhost:8080/"
        },
        "id": "hvTRDZpy2lUp",
        "outputId": "35b23c5b-b175-4d16-9367-27f53d926cc2"
      },
      "source": [
        "palabras_comunes=contador_palabras.most_common()[:10] #muestra las 10 palabras que mas se repiten o las màs comunes\n",
        "print(palabras_comunes)"
      ],
      "execution_count": 50,
      "outputs": [
        {
          "output_type": "stream",
          "name": "stdout",
          "text": [
            "[('film', 9517), ('one', 5852), ('movie', 5771), ('like', 3690), ('even', 2565), ('good', 2411), ('time', 2411), ('story', 2169), ('would', 2109), ('much', 2049)]\n"
          ]
        }
      ]
    },
    {
      "cell_type": "code",
      "metadata": {
        "id": "4Up9-UJg3lqP"
      },
      "source": [
        "%matplotlib inline"
      ],
      "execution_count": 53,
      "outputs": []
    },
    {
      "cell_type": "code",
      "metadata": {
        "id": "E8bvP7s32yfc"
      },
      "source": [
        "contador_palabras_ordenado=sorted(list(contador_palabras.values()),reverse=True) #ordena de mayor a menor la lista"
      ],
      "execution_count": 54,
      "outputs": []
    },
    {
      "cell_type": "code",
      "metadata": {
        "colab": {
          "base_uri": "https://localhost:8080/",
          "height": 301
        },
        "id": "Q-VMqvbc30mp",
        "outputId": "e5fe20a5-665f-495e-c467-0352637e6ea5"
      },
      "source": [
        "plt.loglog(contador_palabras_ordenado) #se grafica en escala logarìtmica para permitir analisar bien el dato ya que en escala decimal, al ser tanta cantidad de datos, es dificil apreciar el grafico y la informacion\n",
        "plt.xlabel('frecuencia')\n",
        "plt.ylabel('orden de las palabras') #grafica la frecuencia de ocurrencia de las palabras"
      ],
      "execution_count": 55,
      "outputs": [
        {
          "output_type": "execute_result",
          "data": {
            "text/plain": [
              "Text(0, 0.5, 'orden de las palabras')"
            ]
          },
          "metadata": {},
          "execution_count": 55
        },
        {
          "output_type": "display_data",
          "data": {
            "image/png": "[encoded data removed]",
            "text/plain": [
              "<Figure size 432x288 with 1 Axes>"
            ]
          },
          "metadata": {
            "needs_background": "light"
          }
        }
      ]
    },
    {
      "cell_type": "code",
      "metadata": {
        "colab": {
          "base_uri": "https://localhost:8080/",
          "height": 442
        },
        "id": "8y9jzbQP4DGR",
        "outputId": "07175892-6b23-45f2-8830-2faaba3ecbd3"
      },
      "source": [
        "plt.hist(contador_palabras_ordenado, bins=20, log=True) #lo muestra como histograma, tambien en escala logaritmica"
      ],
      "execution_count": 56,
      "outputs": [
        {
          "output_type": "execute_result",
          "data": {
            "text/plain": [
              "(array([3.9408e+04, 1.2300e+02, 2.9000e+01, 1.2000e+01, 8.0000e+00,\n",
              "        3.0000e+00, 0.0000e+00, 1.0000e+00, 0.0000e+00, 0.0000e+00,\n",
              "        0.0000e+00, 0.0000e+00, 2.0000e+00, 0.0000e+00, 0.0000e+00,\n",
              "        0.0000e+00, 0.0000e+00, 0.0000e+00, 0.0000e+00, 1.0000e+00]),\n",
              " array([1.0000e+00, 4.7680e+02, 9.5260e+02, 1.4284e+03, 1.9042e+03,\n",
              "        2.3800e+03, 2.8558e+03, 3.3316e+03, 3.8074e+03, 4.2832e+03,\n",
              "        4.7590e+03, 5.2348e+03, 5.7106e+03, 6.1864e+03, 6.6622e+03,\n",
              "        7.1380e+03, 7.6138e+03, 8.0896e+03, 8.5654e+03, 9.0412e+03,\n",
              "        9.5170e+03]),\n",
              " <a list of 20 Patch objects>)"
            ]
          },
          "metadata": {},
          "execution_count": 56
        },
        {
          "output_type": "display_data",
          "data": {
            "image/png": "[encoded data removed]",
            "text/plain": [
              "<Figure size 432x288 with 1 Axes>"
            ]
          },
          "metadata": {
            "needs_background": "light"
          }
        }
      ]
    },
    {
      "cell_type": "markdown",
      "metadata": {
        "id": "1WOBY8yD5KCu"
      },
      "source": [
        "### **Análisis de \"sentimientos\" de un set de datos de reseñas de una película**"
      ]
    },
    {
      "cell_type": "markdown",
      "metadata": {
        "id": "2ndbrH7M86fp"
      },
      "source": [
        "**Extraemos y transformamos los datos**"
      ]
    },
    {
      "cell_type": "code",
      "metadata": {
        "id": "HsfZnHXf4dMT"
      },
      "source": [
        "def bolsa_palabras(palabras):  #se crea una funciòn que crea un diccionario de palabras, diccionario porque a difrencia de la lista no guarda elementos repetidos\n",
        "  diccionario={}\n",
        "  for palabra in palabras:\n",
        "     if palabra not in palabras_inutiles:\n",
        "       diccionario[palabra]=1\n",
        "  return diccionario"
      ],
      "execution_count": 61,
      "outputs": []
    },
    {
      "cell_type": "code",
      "metadata": {
        "id": "5wUPOgML5miA"
      },
      "source": [
        "rasgos_negativos=[]\n",
        "for f in reseña_negativa:\n",
        "  rasgos_negativos.append((bolsa_palabras(movie_reviews.words(fileids=[f])), \"neg\")) #usa la funciona anterior para aplicar la creacion del diccionario a las reseñas negaticvas de las peliculas y le agrega una etiqueta \"neg\""
      ],
      "execution_count": 62,
      "outputs": []
    },
    {
      "cell_type": "code",
      "metadata": {
        "colab": {
          "base_uri": "https://localhost:8080/"
        },
        "id": "5qeIsj8c58U8",
        "outputId": "c6f56a7f-39f2-428a-b8b6-7105076a9e04"
      },
      "source": [
        "print(rasgos_negativos[0])"
      ],
      "execution_count": 63,
      "outputs": [
        {
          "output_type": "stream",
          "name": "stdout",
          "text": [
            "({'plot': 1, 'two': 1, 'teen': 1, 'couples': 1, 'go': 1, 'church': 1, 'party': 1, 'drink': 1, 'drive': 1, 'get': 1, 'accident': 1, 'one': 1, 'guys': 1, 'dies': 1, 'girlfriend': 1, 'continues': 1, 'see': 1, 'life': 1, 'nightmares': 1, 'deal': 1, 'watch': 1, 'movie': 1, 'sorta': 1, 'find': 1, 'critique': 1, 'mind': 1, 'fuck': 1, 'generation': 1, 'touches': 1, 'cool': 1, 'idea': 1, 'presents': 1, 'bad': 1, 'package': 1, 'makes': 1, 'review': 1, 'even': 1, 'harder': 1, 'write': 1, 'since': 1, 'generally': 1, 'applaud': 1, 'films': 1, 'attempt': 1, 'break': 1, 'mold': 1, 'mess': 1, 'head': 1, 'lost': 1, 'highway': 1, 'memento': 1, 'good': 1, 'ways': 1, 'making': 1, 'types': 1, 'folks': 1, 'snag': 1, 'correctly': 1, 'seem': 1, 'taken': 1, 'pretty': 1, 'neat': 1, 'concept': 1, 'executed': 1, 'terribly': 1, 'problems': 1, 'well': 1, 'main': 1, 'problem': 1, 'simply': 1, 'jumbled': 1, 'starts': 1, 'normal': 1, 'downshifts': 1, 'fantasy': 1, 'world': 1, 'audience': 1, 'member': 1, 'going': 1, 'dreams': 1, 'characters': 1, 'coming': 1, 'back': 1, 'dead': 1, 'others': 1, 'look': 1, 'like': 1, 'strange': 1, 'apparitions': 1, 'disappearances': 1, 'looooot': 1, 'chase': 1, 'scenes': 1, 'tons': 1, 'weird': 1, 'things': 1, 'happen': 1, 'explained': 1, 'personally': 1, 'trying': 1, 'unravel': 1, 'film': 1, 'every': 1, 'give': 1, 'clue': 1, 'kind': 1, 'fed': 1, 'biggest': 1, 'obviously': 1, 'got': 1, 'big': 1, 'secret': 1, 'hide': 1, 'seems': 1, 'want': 1, 'completely': 1, 'final': 1, 'five': 1, 'minutes': 1, 'make': 1, 'entertaining': 1, 'thrilling': 1, 'engaging': 1, 'meantime': 1, 'really': 1, 'sad': 1, 'part': 1, 'arrow': 1, 'dig': 1, 'flicks': 1, 'actually': 1, 'figured': 1, 'half': 1, 'way': 1, 'point': 1, 'strangeness': 1, 'start': 1, 'little': 1, 'bit': 1, 'sense': 1, 'still': 1, 'guess': 1, 'bottom': 1, 'line': 1, 'movies': 1, 'always': 1, 'sure': 1, 'given': 1, 'password': 1, 'enter': 1, 'understanding': 1, 'mean': 1, 'showing': 1, 'melissa': 1, 'sagemiller': 1, 'running': 1, 'away': 1, 'visions': 1, '20': 1, 'throughout': 1, 'plain': 1, 'lazy': 1, 'okay': 1, 'people': 1, 'chasing': 1, 'know': 1, 'need': 1, 'giving': 1, 'us': 1, 'different': 1, 'offering': 1, 'insight': 1, 'apparently': 1, 'studio': 1, 'took': 1, 'director': 1, 'chopped': 1, 'shows': 1, 'might': 1, 'decent': 1, 'somewhere': 1, 'suits': 1, 'decided': 1, 'turning': 1, 'music': 1, 'video': 1, 'edge': 1, 'would': 1, 'actors': 1, 'although': 1, 'wes': 1, 'bentley': 1, 'seemed': 1, 'playing': 1, 'exact': 1, 'character': 1, 'american': 1, 'beauty': 1, 'new': 1, 'neighborhood': 1, 'kudos': 1, 'holds': 1, 'entire': 1, 'feeling': 1, 'unraveling': 1, 'overall': 1, 'stick': 1, 'entertain': 1, 'confusing': 1, 'rarely': 1, 'excites': 1, 'feels': 1, 'redundant': 1, 'runtime': 1, 'despite': 1, 'ending': 1, 'explanation': 1, 'craziness': 1, 'came': 1, 'oh': 1, 'horror': 1, 'slasher': 1, 'flick': 1, 'packaged': 1, 'someone': 1, 'assuming': 1, 'genre': 1, 'hot': 1, 'kids': 1, 'also': 1, 'wrapped': 1, 'production': 1, 'years': 1, 'ago': 1, 'sitting': 1, 'shelves': 1, 'ever': 1, 'whatever': 1, 'skip': 1, 'joblo': 1, 'nightmare': 1, 'elm': 1, 'street': 1, '3': 1, '7': 1, '10': 1, 'blair': 1, 'witch': 1, '2': 1, 'crow': 1, '9': 1, 'salvation': 1, '4': 1, 'stir': 1, 'echoes': 1, '8': 1}, 'neg')\n"
          ]
        }
      ]
    },
    {
      "cell_type": "code",
      "metadata": {
        "id": "xpT16C4m6Mos"
      },
      "source": [
        "rasgos_positivos=[]\n",
        "for f in reseña_positiva:\n",
        "  rasgos_positivos.append((bolsa_palabras(movie_reviews.words(fileids=[f])), \"pos\"))"
      ],
      "execution_count": 66,
      "outputs": []
    },
    {
      "cell_type": "code",
      "metadata": {
        "colab": {
          "base_uri": "https://localhost:8080/"
        },
        "id": "cy8kEP7h6VeV",
        "outputId": "bebf3e2c-2269-4e9f-d132-6f33f71c9bd0"
      },
      "source": [
        "print(rasgos_positivos[0])"
      ],
      "execution_count": 67,
      "outputs": [
        {
          "output_type": "stream",
          "name": "stdout",
          "text": [
            "({'films': 1, 'adapted': 1, 'comic': 1, 'books': 1, 'plenty': 1, 'success': 1, 'whether': 1, 'superheroes': 1, 'batman': 1, 'superman': 1, 'spawn': 1, 'geared': 1, 'toward': 1, 'kids': 1, 'casper': 1, 'arthouse': 1, 'crowd': 1, 'ghost': 1, 'world': 1, 'never': 1, 'really': 1, 'book': 1, 'like': 1, 'hell': 1, 'starters': 1, 'created': 1, 'alan': 1, 'moore': 1, 'eddie': 1, 'campbell': 1, 'brought': 1, 'medium': 1, 'whole': 1, 'new': 1, 'level': 1, 'mid': 1, '80s': 1, '12': 1, 'part': 1, 'series': 1, 'called': 1, 'watchmen': 1, 'say': 1, 'thoroughly': 1, 'researched': 1, 'subject': 1, 'jack': 1, 'ripper': 1, 'would': 1, 'saying': 1, 'michael': 1, 'jackson': 1, 'starting': 1, 'look': 1, 'little': 1, 'odd': 1, 'graphic': 1, 'novel': 1, '500': 1, 'pages': 1, 'long': 1, 'includes': 1, 'nearly': 1, '30': 1, 'consist': 1, 'nothing': 1, 'footnotes': 1, 'words': 1, 'dismiss': 1, 'film': 1, 'source': 1, 'get': 1, 'past': 1, 'thing': 1, 'might': 1, 'find': 1, 'another': 1, 'stumbling': 1, 'block': 1, 'directors': 1, 'albert': 1, 'allen': 1, 'hughes': 1, 'getting': 1, 'brothers': 1, 'direct': 1, 'seems': 1, 'almost': 1, 'ludicrous': 1, 'casting': 1, 'carrot': 1, 'top': 1, 'well': 1, 'anything': 1, 'riddle': 1, 'better': 1, 'set': 1, 'ghetto': 1, 'features': 1, 'violent': 1, 'street': 1, 'crime': 1, 'mad': 1, 'geniuses': 1, 'behind': 1, 'menace': 1, 'ii': 1, 'society': 1, 'question': 1, 'course': 1, 'whitechapel': 1, '1888': 1, 'london': 1, 'east': 1, 'end': 1, 'filthy': 1, 'sooty': 1, 'place': 1, 'whores': 1, 'unfortunates': 1, 'nervous': 1, 'mysterious': 1, 'psychopath': 1, 'carving': 1, 'profession': 1, 'surgical': 1, 'precision': 1, 'first': 1, 'stiff': 1, 'turns': 1, 'copper': 1, 'peter': 1, 'godley': 1, 'robbie': 1, 'coltrane': 1, 'enough': 1, 'calls': 1, 'inspector': 1, 'frederick': 1, 'abberline': 1, 'johnny': 1, 'depp': 1, 'blow': 1, 'crack': 1, 'case': 1, 'widower': 1, 'prophetic': 1, 'dreams': 1, 'unsuccessfully': 1, 'tries': 1, 'quell': 1, 'copious': 1, 'amounts': 1, 'absinthe': 1, 'opium': 1, 'upon': 1, 'arriving': 1, 'befriends': 1, 'unfortunate': 1, 'named': 1, 'mary': 1, 'kelly': 1, 'heather': 1, 'graham': 1, 'proceeds': 1, 'investigate': 1, 'horribly': 1, 'gruesome': 1, 'crimes': 1, 'even': 1, 'police': 1, 'surgeon': 1, 'stomach': 1, 'think': 1, 'anyone': 1, 'needs': 1, 'briefed': 1, 'go': 1, 'particulars': 1, 'unique': 1, 'interesting': 1, 'theory': 1, 'identity': 1, 'killer': 1, 'reasons': 1, 'chooses': 1, 'slay': 1, 'bother': 1, 'cloaking': 1, 'screenwriters': 1, 'terry': 1, 'hayes': 1, 'vertical': 1, 'limit': 1, 'rafael': 1, 'yglesias': 1, 'les': 1, 'mis': 1, 'rables': 1, 'good': 1, 'job': 1, 'keeping': 1, 'hidden': 1, 'viewers': 1, 'funny': 1, 'watch': 1, 'locals': 1, 'blindly': 1, 'point': 1, 'finger': 1, 'blame': 1, 'jews': 1, 'indians': 1, 'englishman': 1, 'could': 1, 'capable': 1, 'committing': 1, 'ghastly': 1, 'acts': 1, 'ending': 1, 'whistling': 1, 'stonecutters': 1, 'song': 1, 'simpsons': 1, 'days': 1, 'holds': 1, 'back': 1, 'electric': 1, 'car': 1, 'made': 1, 'steve': 1, 'guttenberg': 1, 'star': 1, 'worry': 1, 'make': 1, 'sense': 1, 'see': 1, 'onto': 1, 'appearance': 1, 'certainly': 1, 'dark': 1, 'bleak': 1, 'surprising': 1, 'much': 1, 'looks': 1, 'tim': 1, 'burton': 1, 'planet': 1, 'apes': 1, 'times': 1, 'sleepy': 1, 'hollow': 1, '2': 1, 'print': 1, 'saw': 1, 'completely': 1, 'finished': 1, 'color': 1, 'music': 1, 'finalized': 1, 'comments': 1, 'marilyn': 1, 'manson': 1, 'cinematographer': 1, 'deming': 1, 'word': 1, 'ably': 1, 'captures': 1, 'dreariness': 1, 'victorian': 1, 'era': 1, 'helped': 1, 'flashy': 1, 'killing': 1, 'scenes': 1, 'remind': 1, 'crazy': 1, 'flashbacks': 1, 'twin': 1, 'peaks': 1, 'though': 1, 'violence': 1, 'pales': 1, 'comparison': 1, 'black': 1, 'white': 1, 'oscar': 1, 'winner': 1, 'martin': 1, 'childs': 1, 'shakespeare': 1, 'love': 1, 'production': 1, 'design': 1, 'original': 1, 'prague': 1, 'surroundings': 1, 'one': 1, 'creepy': 1, 'acting': 1, 'solid': 1, 'dreamy': 1, 'turning': 1, 'typically': 1, 'strong': 1, 'performance': 1, 'deftly': 1, 'handling': 1, 'british': 1, 'accent': 1, 'ians': 1, 'holm': 1, 'joe': 1, 'gould': 1, 'secret': 1, 'richardson': 1, '102': 1, 'dalmatians': 1, 'log': 1, 'great': 1, 'supporting': 1, 'roles': 1, 'big': 1, 'surprise': 1, 'cringed': 1, 'time': 1, 'opened': 1, 'mouth': 1, 'imagining': 1, 'attempt': 1, 'irish': 1, 'actually': 1, 'half': 1, 'bad': 1, 'however': 1, '00': 1, 'r': 1, 'gore': 1, 'sexuality': 1, 'language': 1, 'drug': 1, 'content': 1}, 'pos')\n"
          ]
        }
      ]
    },
    {
      "cell_type": "code",
      "metadata": {
        "id": "cjRFm06q6AOK"
      },
      "source": [
        "from nltk import NaiveBayesClassifier #imporamos el clasificaro nvies bayes"
      ],
      "execution_count": 64,
      "outputs": []
    },
    {
      "cell_type": "markdown",
      "metadata": {
        "id": "c0IxezXG8sY_"
      },
      "source": [
        "**Entrenamos el clasificador, NB este caso, luego de exstraer los datos y transformarlos (sacar las palabras inutiles) [texto del vínculo](https://)**"
      ]
    },
    {
      "cell_type": "code",
      "metadata": {
        "id": "oTVWbo_U6ED8"
      },
      "source": [
        "division=800 #se guarda, de los 1000 revies positivos/negativos, 800 para entrenamiento. y 200 para testearlo"
      ],
      "execution_count": 65,
      "outputs": []
    },
    {
      "cell_type": "code",
      "metadata": {
        "id": "7oT7slWD6Hrj"
      },
      "source": [
        "clasificador_sentimientos=NaiveBayesClassifier.train(rasgos_positivos[:division]+rasgos_negativos[:division]) #hacemos el entrenamiento del clasificador"
      ],
      "execution_count": 68,
      "outputs": []
    },
    {
      "cell_type": "code",
      "metadata": {
        "colab": {
          "base_uri": "https://localhost:8080/"
        },
        "id": "g5LnhkSF6mAL",
        "outputId": "b2d8eb84-311c-4071-dc13-e85c9ebbd08e"
      },
      "source": [
        "nltk.classify.util.accuracy(clasificador_sentimientos, rasgos_positivos[:division]+rasgos_negativos[:division]) #con accuracy prueba la efectividad, ahora prueba efectividad con el mismo set de datos del entrenamiento"
      ],
      "execution_count": 69,
      "outputs": [
        {
          "output_type": "execute_result",
          "data": {
            "text/plain": [
              "0.980625"
            ]
          },
          "metadata": {},
          "execution_count": 69
        }
      ]
    },
    {
      "cell_type": "code",
      "metadata": {
        "colab": {
          "base_uri": "https://localhost:8080/"
        },
        "id": "j1_rAB2z7dxs",
        "outputId": "9592b12d-dd7d-4a27-9d6d-c45ecce76093"
      },
      "source": [
        "nltk.classify.util.accuracy(clasificador_sentimientos, rasgos_positivos[division:]+rasgos_negativos[division:]) #se le ingresan los otros 400 datos, 200 neg y 200 pos, que se guardaron para tst"
      ],
      "execution_count": 70,
      "outputs": [
        {
          "output_type": "execute_result",
          "data": {
            "text/plain": [
              "0.7175"
            ]
          },
          "metadata": {},
          "execution_count": 70
        }
      ]
    },
    {
      "cell_type": "code",
      "metadata": {
        "id": "0DCNka7wXepV",
        "colab": {
          "base_uri": "https://localhost:8080/"
        },
        "outputId": "753ed515-9bcb-4990-ddf1-89696a3369ac"
      },
      "source": [
        "clasificador_sentimientos.show_most_informative_features() #muestra las caracteristicas mas importantes. Comoa traves de probabilidades puede indicar o predecir el dato. Por ejemplo si se incluye la palabra insulting, para el clasificador seguro es una reseña negativa ya que en el entrenamiento aprendio que esa palabra aparece 13 veces en reseñas negativas sobre una en positivas."
      ],
      "execution_count": 71,
      "outputs": [
        {
          "output_type": "stream",
          "name": "stdout",
          "text": [
            "Most Informative Features\n",
            "             outstanding = 1                 pos : neg    =     13.9 : 1.0\n",
            "               insulting = 1                 neg : pos    =     13.7 : 1.0\n",
            "              vulnerable = 1                 pos : neg    =     13.0 : 1.0\n",
            "               ludicrous = 1                 neg : pos    =     12.6 : 1.0\n",
            "             uninvolving = 1                 neg : pos    =     12.3 : 1.0\n",
            "              astounding = 1                 pos : neg    =     11.7 : 1.0\n",
            "                  avoids = 1                 pos : neg    =     11.7 : 1.0\n",
            "             fascination = 1                 pos : neg    =     11.0 : 1.0\n",
            "                  darker = 1                 pos : neg    =     10.3 : 1.0\n",
            "               animators = 1                 pos : neg    =     10.3 : 1.0\n"
          ]
        }
      ]
    },
    {
      "cell_type": "code",
      "metadata": {
        "id": "_ChuB3-L7qV8"
      },
      "source": [
        "from nltk import tokenize #funciòn para tokenizar, simplifanco lo que se uso antes"
      ],
      "execution_count": 72,
      "outputs": []
    },
    {
      "cell_type": "markdown",
      "metadata": {
        "id": "sJ9_xMEH8_6S"
      },
      "source": [
        "**Ponems a prueba el clasificador**"
      ]
    },
    {
      "cell_type": "code",
      "metadata": {
        "colab": {
          "base_uri": "https://localhost:8080/"
        },
        "id": "rWwXo2Lp74Qc",
        "outputId": "6f91a6d9-b705-4577-ba66-5939ff79e307"
      },
      "source": [
        "texto=\"the movies was beautiful and vulnerable and avoids\"\n",
        "texto_tokenizado=tokenize.casual_tokenize(texto) #tokeniza el texto\n",
        "bolsa=bolsa_palabras(texto_tokenizado) #crea el diccionario con las palabras del texto ingresado\n",
        "print(bolsa)"
      ],
      "execution_count": 76,
      "outputs": [
        {
          "output_type": "stream",
          "name": "stdout",
          "text": [
            "{'movies': 1, 'beautiful': 1, 'vulnerable': 1, 'avoids': 1}\n"
          ]
        }
      ]
    },
    {
      "cell_type": "code",
      "metadata": {
        "colab": {
          "base_uri": "https://localhost:8080/",
          "height": 35
        },
        "id": "upoeB2aM7_x2",
        "outputId": "ba9f5037-76bf-42a1-f011-6161b7a0aaeb"
      },
      "source": [
        "clasificador_sentimientos.classify(bolsa) #utliza el clasificador que entrenamos antes para identificar si es una reseña negativa o positiva"
      ],
      "execution_count": 77,
      "outputs": [
        {
          "output_type": "execute_result",
          "data": {
            "application/vnd.google.colaboratory.intrinsic+json": {
              "type": "string"
            },
            "text/plain": [
              "'pos'"
            ]
          },
          "metadata": {},
          "execution_count": 77
        }
      ]
    }
  ]
}