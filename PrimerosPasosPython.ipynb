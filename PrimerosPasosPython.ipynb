{
  "nbformat": 4,
  "nbformat_minor": 0,
  "metadata": {
    "colab": {
      "name": "PrimerosPasosPython.ipynb",
      "provenance": [],
      "mount_file_id": "1JsT0VSOzwVG-chxVl_6t8RVGvWhOgXV9",
      "authorship_tag": "ABX9TyM1Aroe1OUMICcU2pFuFI7H",
      "include_colab_link": true
    },
    "kernelspec": {
      "name": "python3",
      "display_name": "Python 3"
    },
    "language_info": {
      "name": "python"
    }
  },
  "cells": [
    {
      "cell_type": "markdown",
      "metadata": {
        "id": "view-in-github",
        "colab_type": "text"
      },
      "source": [
        "<a href=\"https://colab.research.google.com/github/dgatti/PortfolioBigData/blob/main/PrimerosPasosPython.ipynb\" target=\"_parent\"><img src=\"https://colab.research.google.com/assets/colab-badge.svg\" alt=\"Open In Colab\"/></a>"
      ]
    },
    {
      "cell_type": "code",
      "metadata": {
        "id": "sqiw-6PfjQCv"
      },
      "source": [
        "import numpy as np\n",
        "import pandas as pd\n"
      ],
      "execution_count": 1,
      "outputs": []
    },
    {
      "cell_type": "markdown",
      "metadata": {
        "id": "5PYsUlAcjVVa"
      },
      "source": [
        "## **Primeros pasos con Python**\n",
        "**Cargar un DataSet y generar un pequeño gráfico**"
      ]
    },
    {
      "cell_type": "code",
      "metadata": {
        "id": "qvjjekXsjRjb"
      },
      "source": [
        "datos=pd.read_excel(\"/content/drive/MyDrive/Curso Python/frutas.xlsx\")\n",
        "DF=pd.DataFrame(datos)"
      ],
      "execution_count": null,
      "outputs": []
    },
    {
      "cell_type": "code",
      "metadata": {
        "id": "q6tlNLe4jyGq"
      },
      "source": [
        "for i in datos.index:\n",
        "  print(\"Peso fruta {} = {}\".format(i,datos['mass'][i])) #Probando .format para formatear el tipo de dato"
      ],
      "execution_count": null,
      "outputs": []
    },
    {
      "cell_type": "code",
      "metadata": {
        "id": "1VChc0iFj1uN"
      },
      "source": [
        "import matplotlib.pyplot as plt"
      ],
      "execution_count": 3,
      "outputs": []
    },
    {
      "cell_type": "code",
      "metadata": {
        "id": "nOBYN_yqj5Ic"
      },
      "source": [
        "ejex=np.array(datos['fruit_name'])\n",
        "ejey=np.array(datos['mass'])\n",
        "ejey2=np.array(datos['color_score'].values)\n",
        "\n",
        "nombre_fruta=np.unique(datos['fruit_name'].values) #probando el .unique"
      ],
      "execution_count": null,
      "outputs": []
    },
    {
      "cell_type": "code",
      "metadata": {
        "colab": {
          "base_uri": "https://localhost:8080/",
          "height": 268
        },
        "id": "hrPeiu5jkFH9",
        "outputId": "79760e4a-8f2f-4e93-af20-d0ba1dc7c8d4"
      },
      "source": [
        "ancho_barra=0.25\n",
        "plt.bar(ejex,ejey,width=ancho_barra,label='grafico1')\n",
        "#plt.bar(ejex+ancho_barra,ejey2,width=ancho_barra,label='grafico2') \n",
        "plt.ylabel('Peso')\n",
        "plt.grid(True)\n",
        "plt.legend()\n",
        "plt.ylim(1,500)\n",
        "plt.show()"
      ],
      "execution_count": null,
      "outputs": [
        {
          "output_type": "display_data",
          "data": {
            "image/png": "[encoded data removed]",
            "text/plain": [
              "<Figure size 432x288 with 1 Axes>"
            ]
          },
          "metadata": {
            "needs_background": "light"
          }
        }
      ]
    },
    {
      "cell_type": "code",
      "metadata": {
        "id": "sY3Di6RyoUbS",
        "colab": {
          "base_uri": "https://localhost:8080/",
          "height": 280
        },
        "outputId": "3508f495-9510-4cdd-9a2a-f80c51e09c1b"
      },
      "source": [
        "plt.hist(ejey2)\n",
        "plt.xlabel('Color_Score')\n",
        "plt.show()"
      ],
      "execution_count": null,
      "outputs": [
        {
          "output_type": "display_data",
          "data": {
            "image/png": "[encoded data removed]",
            "text/plain": [
              "<Figure size 432x288 with 1 Axes>"
            ]
          },
          "metadata": {
            "needs_background": "light"
          }
        }
      ]
    },
    {
      "cell_type": "markdown",
      "metadata": {
        "id": "F3eZ0DX5kgbm"
      },
      "source": [
        " **Probando el armado de listas**\n"
      ]
    },
    {
      "cell_type": "code",
      "metadata": {
        "id": "9m_9KXPHkzLc"
      },
      "source": [
        "datos=pd.read_csv(\"/content/drive/MyDrive/Curso Python/Indicators.csv\")"
      ],
      "execution_count": null,
      "outputs": []
    },
    {
      "cell_type": "code",
      "metadata": {
        "id": "AdfJ23hVk5iW"
      },
      "source": [
        "datos.head(10)"
      ],
      "execution_count": null,
      "outputs": []
    },
    {
      "cell_type": "code",
      "metadata": {
        "id": "94CLouifk-_f"
      },
      "source": [
        "datos.shape"
      ],
      "execution_count": null,
      "outputs": []
    },
    {
      "cell_type": "code",
      "metadata": {
        "colab": {
          "base_uri": "https://localhost:8080/"
        },
        "id": "q_qxV-7RlBFP",
        "outputId": "d60b380d-8393-4a1c-b308-d3b58768304b"
      },
      "source": [
        "codigo_paises=datos[\"CountryCode\"].unique().tolist() #Crea una lista, .tolist(), con los registros de CountryCode del DataSet, valores ùnicos, que no se repitan (.unique())\n",
        "len(codigo_paises)"
      ],
      "execution_count": null,
      "outputs": [
        {
          "output_type": "execute_result",
          "data": {
            "text/plain": [
              "247"
            ]
          },
          "metadata": {},
          "execution_count": 3
        }
      ]
    },
    {
      "cell_type": "code",
      "metadata": {
        "colab": {
          "base_uri": "https://localhost:8080/"
        },
        "id": "fMj-6x0_lD33",
        "outputId": "2e9c1405-fe44-49f6-be94-e87b58435850"
      },
      "source": [
        "descrip_indicadores=datos[\"IndicatorName\"].unique().tolist()\n",
        "print(descrip_indicadores[:10])\n",
        "len(descrip_indicadores)"
      ],
      "execution_count": null,
      "outputs": [
        {
          "output_type": "stream",
          "name": "stdout",
          "text": [
            "['Adolescent fertility rate (births per 1,000 women ages 15-19)', 'Age dependency ratio (% of working-age population)', 'Age dependency ratio, old (% of working-age population)', 'Age dependency ratio, young (% of working-age population)', 'Arms exports (SIPRI trend indicator values)', 'Arms imports (SIPRI trend indicator values)', 'Birth rate, crude (per 1,000 people)', 'CO2 emissions (kt)', 'CO2 emissions (metric tons per capita)', 'CO2 emissions from gaseous fuel consumption (% of total)']\n"
          ]
        },
        {
          "output_type": "execute_result",
          "data": {
            "text/plain": [
              "1344"
            ]
          },
          "metadata": {},
          "execution_count": 4
        }
      ]
    },
    {
      "cell_type": "code",
      "metadata": {
        "colab": {
          "base_uri": "https://localhost:8080/"
        },
        "id": "bUDLtv_3lGUX",
        "outputId": "88a606b4-91f3-4bf7-84e5-4a8957bcaaa9"
      },
      "source": [
        "años=datos[\"Year\"].unique().tolist()\n",
        "len(años)\n",
        "print(min(años),'-',max(años))"
      ],
      "execution_count": null,
      "outputs": [
        {
          "output_type": "stream",
          "name": "stdout",
          "text": [
            "1960 - 2015\n"
          ]
        }
      ]
    },
    {
      "cell_type": "markdown",
      "metadata": {
        "id": "vZx5cF7Hn8nF"
      },
      "source": [
        "**Continuando con los gráficos**"
      ]
    },
    {
      "cell_type": "code",
      "metadata": {
        "id": "q5JZWHKflIL4",
        "colab": {
          "base_uri": "https://localhost:8080/",
          "height": 202
        },
        "outputId": "fda0ca12-efec-4868-e4d0-bc15c8a8a543"
      },
      "source": [
        "indicador_key='CO2 emissions \\(metric tons per capita'\n",
        "pais_key='BRA'\n",
        "\n",
        "filtro1=datos['IndicatorName'].str.contains(indicador_key) #crea una lista recuperando los registros que contienen el valor indicado\n",
        "filtro2=datos['CountryCode'].str.contains(pais_key)\n",
        "datos_filtrados=datos[filtro1 & filtro2] #Genera un nuevo data set solo con registros que contienen la información key\n",
        "\n",
        "datos_filtrados.head()"
      ],
      "execution_count": null,
      "outputs": [
        {
          "output_type": "execute_result",
          "data": {
            "text/html": [
              "<div>\n",
              "<style scoped>\n",
              "    .dataframe tbody tr th:only-of-type {\n",
              "        vertical-align: middle;\n",
              "    }\n",
              "\n",
              "    .dataframe tbody tr th {\n",
              "        vertical-align: top;\n",
              "    }\n",
              "\n",
              "    .dataframe thead th {\n",
              "        text-align: right;\n",
              "    }\n",
              "</style>\n",
              "<table border=\"1\" class=\"dataframe\">\n",
              "  <thead>\n",
              "    <tr style=\"text-align: right;\">\n",
              "      <th></th>\n",
              "      <th>CountryName</th>\n",
              "      <th>CountryCode</th>\n",
              "      <th>IndicatorName</th>\n",
              "      <th>IndicatorCode</th>\n",
              "      <th>Year</th>\n",
              "      <th>Value</th>\n",
              "    </tr>\n",
              "  </thead>\n",
              "  <tbody>\n",
              "    <tr>\n",
              "      <th>5642</th>\n",
              "      <td>Brazil</td>\n",
              "      <td>BRA</td>\n",
              "      <td>CO2 emissions (metric tons per capita)</td>\n",
              "      <td>EN.ATM.CO2E.PC</td>\n",
              "      <td>1960</td>\n",
              "      <td>0.647068</td>\n",
              "    </tr>\n",
              "    <tr>\n",
              "      <th>29722</th>\n",
              "      <td>Brazil</td>\n",
              "      <td>BRA</td>\n",
              "      <td>CO2 emissions (metric tons per capita)</td>\n",
              "      <td>EN.ATM.CO2E.PC</td>\n",
              "      <td>1961</td>\n",
              "      <td>0.658625</td>\n",
              "    </tr>\n",
              "    <tr>\n",
              "      <th>56759</th>\n",
              "      <td>Brazil</td>\n",
              "      <td>BRA</td>\n",
              "      <td>CO2 emissions (metric tons per capita)</td>\n",
              "      <td>EN.ATM.CO2E.PC</td>\n",
              "      <td>1962</td>\n",
              "      <td>0.697281</td>\n",
              "    </tr>\n",
              "    <tr>\n",
              "      <th>85147</th>\n",
              "      <td>Brazil</td>\n",
              "      <td>BRA</td>\n",
              "      <td>CO2 emissions (metric tons per capita)</td>\n",
              "      <td>EN.ATM.CO2E.PC</td>\n",
              "      <td>1963</td>\n",
              "      <td>0.700749</td>\n",
              "    </tr>\n",
              "    <tr>\n",
              "      <th>113859</th>\n",
              "      <td>Brazil</td>\n",
              "      <td>BRA</td>\n",
              "      <td>CO2 emissions (metric tons per capita)</td>\n",
              "      <td>EN.ATM.CO2E.PC</td>\n",
              "      <td>1964</td>\n",
              "      <td>0.694001</td>\n",
              "    </tr>\n",
              "  </tbody>\n",
              "</table>\n",
              "</div>"
            ],
            "text/plain": [
              "       CountryName CountryCode  ...  Year     Value\n",
              "5642        Brazil         BRA  ...  1960  0.647068\n",
              "29722       Brazil         BRA  ...  1961  0.658625\n",
              "56759       Brazil         BRA  ...  1962  0.697281\n",
              "85147       Brazil         BRA  ...  1963  0.700749\n",
              "113859      Brazil         BRA  ...  1964  0.694001\n",
              "\n",
              "[5 rows x 6 columns]"
            ]
          },
          "metadata": {},
          "execution_count": 5
        }
      ]
    },
    {
      "cell_type": "code",
      "metadata": {
        "colab": {
          "base_uri": "https://localhost:8080/",
          "height": 281
        },
        "id": "XClLdOwaoNrW",
        "outputId": "d92a36ec-5daf-4076-f8de-87a556ccce84"
      },
      "source": [
        "años=datos_filtrados['Year']\n",
        "co2=datos_filtrados['Value']\n",
        "plt.title('Emisiones de CO2 por año en Brasil')\n",
        "plt.ylabel('Emisiones de CO2')\n",
        "plt.bar(años,co2)\n",
        "plt.show()"
      ],
      "execution_count": null,
      "outputs": [
        {
          "output_type": "display_data",
          "data": {
            "image/png": "[encoded data removed]",
            "text/plain": [
              "<Figure size 432x288 with 1 Axes>"
            ]
          },
          "metadata": {
            "needs_background": "light"
          }
        }
      ]
    },
    {
      "cell_type": "code",
      "metadata": {
        "colab": {
          "base_uri": "https://localhost:8080/",
          "height": 294
        },
        "id": "tCz3Eq4cqRTt",
        "outputId": "ef53ddfd-afab-4736-94bf-2554fbc4876c"
      },
      "source": [
        "años_a=datos_filtrados['Year'].values #en este caso, se crea un array con los registros que contienen el valor indicado\n",
        "co2_a=datos_filtrados['Value'].values\n",
        "plt.plot(años_a,co2_a) \n",
        "plt.xlabel('Year')\n",
        "plt.ylabel(datos_filtrados['IndicatorName'].iloc[0]) #selecciona un elemento del dataF y lo asigna como etiqueta\n",
        "plt.title('Emisiones CO2 en Brasil')\n",
        "plt.axis([1959,2011,0,2])\n",
        "plt.show()"
      ],
      "execution_count": null,
      "outputs": [
        {
          "output_type": "display_data",
          "data": {
            "image/png": "[encoded data removed]",
            "text/plain": [
              "<Figure size 432x288 with 1 Axes>"
            ]
          },
          "metadata": {
            "needs_background": "light"
          }
        }
      ]
    },
    {
      "cell_type": "code",
      "metadata": {
        "colab": {
          "base_uri": "https://localhost:8080/",
          "height": 294
        },
        "id": "QedFxkFvI_ln",
        "outputId": "d3bdbe2a-3053-41e3-afa5-d4c36ea2fc2d"
      },
      "source": [
        "plt.hist(datos_filtrados['Value'].values,20,facecolor='red')\n",
        "plt.xlabel(datos_filtrados['IndicatorName'].iloc[0])\n",
        "plt.ylabel('Años')\n",
        "plt.title('Histograma Emisiones CO2 en Brasil')\n",
        "plt.grid(True)\n",
        "plt.show()"
      ],
      "execution_count": null,
      "outputs": [
        {
          "output_type": "display_data",
          "data": {
            "image/png": "[encoded data removed]",
            "text/plain": [
              "<Figure size 432x288 with 1 Axes>"
            ]
          },
          "metadata": {
            "needs_background": "light"
          }
        }
      ]
    },
    {
      "cell_type": "code",
      "metadata": {
        "id": "rrRpm0fi_Xw8"
      },
      "source": [
        "from sklearn import datasets\n",
        "iris=datasets.load_iris()"
      ],
      "execution_count": 4,
      "outputs": []
    },
    {
      "cell_type": "code",
      "metadata": {
        "colab": {
          "base_uri": "https://localhost:8080/",
          "height": 264
        },
        "id": "JTUtR4NP_O41",
        "outputId": "6070468e-80b7-4b6a-97a2-27d9a5503584"
      },
      "source": [
        "x=iris.data[:,1]\n",
        "y=iris.data[:,3]\n",
        "colors=iris.target\n",
        "plt.scatter(x,y,colors)\n",
        "plt.grid(True)\n",
        "plt.show()"
      ],
      "execution_count": 5,
      "outputs": [
        {
          "output_type": "display_data",
          "data": {
            "image/png": "[encoded data removed]",
            "text/plain": [
              "<Figure size 432x288 with 1 Axes>"
            ]
          },
          "metadata": {
            "needs_background": "light"
          }
        }
      ]
    }
  ]
}