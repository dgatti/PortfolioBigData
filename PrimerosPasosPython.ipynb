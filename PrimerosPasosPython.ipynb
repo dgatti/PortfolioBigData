{
  "nbformat": 4,
  "nbformat_minor": 0,
  "metadata": {
    "colab": {
      "name": "PrimerosPAsosPython.ipynb",
      "provenance": [],
      "mount_file_id": "1JsT0VSOzwVG-chxVl_6t8RVGvWhOgXV9",
      "authorship_tag": "ABX9TyNf6Qpn2/X9F1SB8mtr+OIC",
      "include_colab_link": true
    },
    "kernelspec": {
      "name": "python3",
      "display_name": "Python 3"
    },
    "language_info": {
      "name": "python"
    }
  },
  "cells": [
    {
      "cell_type": "markdown",
      "metadata": {
        "id": "view-in-github",
        "colab_type": "text"
      },
      "source": [
        "<a href=\"https://colab.research.google.com/github/dgatti/PortfolioBigData/blob/main/PrimerosPasosPython.ipynb\" target=\"_parent\"><img src=\"https://colab.research.google.com/assets/colab-badge.svg\" alt=\"Open In Colab\"/></a>"
      ]
    },
    {
      "cell_type": "code",
      "metadata": {
        "id": "sqiw-6PfjQCv"
      },
      "source": [
        "import numpy as np\n",
        "import pandas as pd"
      ],
      "execution_count": null,
      "outputs": []
    },
    {
      "cell_type": "markdown",
      "metadata": {
        "id": "5PYsUlAcjVVa"
      },
      "source": [
        "## **Primeros pasos con Python**\n",
        "Cargar un DataSet y generar un pequeño gráfico"
      ]
    },
    {
      "cell_type": "code",
      "metadata": {
        "id": "qvjjekXsjRjb"
      },
      "source": [
        "datos=pd.read_excel(\"/content/drive/MyDrive/Curso Python/frutas.xlsx\")\n",
        "DF=pd.DataFrame(datos)"
      ],
      "execution_count": null,
      "outputs": []
    },
    {
      "cell_type": "code",
      "metadata": {
        "id": "q6tlNLe4jyGq"
      },
      "source": [
        "for i in datos.index:\n",
        "  print(\"Peso fruta {} = {}\".format(i,datos['mass'][i])) #Probando .format para formatear el tipo de dato"
      ],
      "execution_count": null,
      "outputs": []
    },
    {
      "cell_type": "code",
      "metadata": {
        "id": "1VChc0iFj1uN"
      },
      "source": [
        "import matplotlib.pyplot as plt"
      ],
      "execution_count": null,
      "outputs": []
    },
    {
      "cell_type": "code",
      "metadata": {
        "id": "nOBYN_yqj5Ic"
      },
      "source": [
        "ejex=np.array(datos['fruit_name'])\n",
        "ejey=np.array(datos['mass'])\n",
        "ejey2=np.array(datos['color_score'].values)\n",
        "\n",
        "nombre_fruta=np.unique(datos['fruit_name'].values) #probando el .unique"
      ],
      "execution_count": null,
      "outputs": []
    },
    {
      "cell_type": "code",
      "metadata": {
        "colab": {
          "base_uri": "https://localhost:8080/",
          "height": 268
        },
        "id": "hrPeiu5jkFH9",
        "outputId": "79760e4a-8f2f-4e93-af20-d0ba1dc7c8d4"
      },
      "source": [
        "ancho_barra=0.25\n",
        "plt.bar(ejex,ejey,width=ancho_barra,label='grafico1')\n",
        "#plt.bar(ejex+ancho_barra,ejey2,width=ancho_barra,label='grafico2') \n",
        "plt.ylabel('Peso')\n",
        "plt.grid(True)\n",
        "plt.legend()\n",
        "plt.ylim(1,500)\n",
        "plt.show()"
      ],
      "execution_count": null,
      "outputs": [
        {
          "output_type": "display_data",
          "data": {
            "image/png": "[encoded data removed]",
            "text/plain": [
              "<Figure size 432x288 with 1 Axes>"
            ]
          },
          "metadata": {
            "needs_background": "light"
          }
        }
      ]
    },
    {
      "cell_type": "code",
      "metadata": {
        "colab": {
          "base_uri": "https://localhost:8080/",
          "height": 280
        },
        "id": "sY3Di6RyoUbS",
        "outputId": "3508f495-9510-4cdd-9a2a-f80c51e09c1b"
      },
      "source": [
        "plt.hist(ejey2)\n",
        "plt.xlabel('Color_Score')\n",
        "plt.show()"
      ],
      "execution_count": null,
      "outputs": [
        {
          "output_type": "display_data",
          "data": {
            "image/png": "[encoded data removed]",
            "text/plain": [
              "<Figure size 432x288 with 1 Axes>"
            ]
          },
          "metadata": {
            "needs_background": "light"
          }
        }
      ]
    }
  ]
}