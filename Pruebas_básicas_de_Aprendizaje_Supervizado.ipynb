{
  "nbformat": 4,
  "nbformat_minor": 0,
  "metadata": {
    "colab": {
      "name": "Pruebas básicas de Aprendizaje Supervizado.ipynb",
      "provenance": [],
      "authorship_tag": "ABX9TyNhDkwN22s7r6rcnDY4E7Wd",
      "include_colab_link": true
    },
    "kernelspec": {
      "name": "python3",
      "display_name": "Python 3"
    },
    "language_info": {
      "name": "python"
    }
  },
  "cells": [
    {
      "cell_type": "markdown",
      "metadata": {
        "id": "view-in-github",
        "colab_type": "text"
      },
      "source": [
        "<a href=\"https://colab.research.google.com/github/dgatti/PortfolioBigData/blob/main/Pruebas_b%C3%A1sicas_de_Aprendizaje_Supervizado.ipynb\" target=\"_parent\"><img src=\"https://colab.research.google.com/assets/colab-badge.svg\" alt=\"Open In Colab\"/></a>"
      ]
    },
    {
      "cell_type": "code",
      "metadata": {
        "id": "aBEJgh9Q9k5m"
      },
      "source": [
        "import numpy as np\n",
        "import pandas as pd\n",
        "import matplotlib.pyplot as plt\n",
        "from sklearn.naive_bayes import GaussianNB "
      ],
      "execution_count": 1,
      "outputs": []
    },
    {
      "cell_type": "markdown",
      "metadata": {
        "id": "p9lR97uQ_jr1"
      },
      "source": [
        "### **Prueba básica Navie - Bayes**\n",
        "> Naive Bayes is a statistical classification technique based on Bayes Theorem. It is one of the simplest supervised learning algorithms. Naive Bayes classifier is the fast, accurate and reliable algorithm. Naive Bayes classifiers have high accuracy and speed on large datasets.\n",
        "\n",
        "[Fuente](https://www.datacamp.com/community/tutorials/naive-bayes-scikit-learn?utm_source=adwords_ppc&utm_campaignid=1455363063&utm_adgroupid=65083631748&utm_device=c&utm_keyword=&utm_matchtype=b&utm_network=g&utm_adpostion=&utm_creative=332602034358&utm_targetid=aud-392016246653:dsa-429603003980&utm_loc_interest_ms=&utm_loc_physical_ms=1000112&gclid=CjwKCAjwj8eJBhA5EiwAg3z0mw_ViPSr-qmmpgEO54XjCn-6Mw_G5l92HLf3ikifNOQnLVnSOvWt5RoCkk8QAvD_BwE)"
      ]
    },
    {
      "cell_type": "code",
      "metadata": {
        "id": "PiCmjpTz_sTq"
      },
      "source": [
        "medida=np.array([[2.1,2.0],[2.3,1.9],[2,2.5],[1.9,2.6],[2.0,2.2],[2.0,2.0],[2.5,1.7]]) #Se crea un array / matriz con datos imaginarios de coordenadas, por ejem, alto y ancho de troncos de árboles (Cedro y Roble)\n",
        "inidice=np.array([1,1,2,2,2,1,1]) #Se crea un array de indices que hacen referencia al array de medidas, el valor 1 se asocia a las medidas del Cedro y el 2 se asocia a las medidas del Roble"
      ],
      "execution_count": null,
      "outputs": []
    },
    {
      "cell_type": "code",
      "metadata": {
        "id": "u10y2XHABbSt"
      },
      "source": [
        "Clasificador=GaussianNB() #Se crea el clasificador NB"
      ],
      "execution_count": null,
      "outputs": []
    },
    {
      "cell_type": "code",
      "metadata": {
        "colab": {
          "base_uri": "https://localhost:8080/"
        },
        "id": "BqEAQbAQBrgO",
        "outputId": "55f38e61-415e-461f-b300-0e1b5582e48c"
      },
      "source": [
        "Clasificador.fit(medida, inidice) #Con este parámetro se entrena al Clasificador para que que aprenda a idenficar medidas de Cedro y de Roble"
      ],
      "execution_count": null,
      "outputs": [
        {
          "output_type": "execute_result",
          "data": {
            "text/plain": [
              "GaussianNB(priors=None, var_smoothing=1e-09)"
            ]
          },
          "metadata": {},
          "execution_count": 5
        }
      ]
    },
    {
      "cell_type": "code",
      "metadata": {
        "colab": {
          "base_uri": "https://localhost:8080/"
        },
        "id": "QGfmxUuHCDC4",
        "outputId": "14d5aa55-62c8-494c-993f-f5881067627e"
      },
      "source": [
        "Valor=Clasificador.predict([[2.3,1.9]])\n",
        "if Valor==1:\n",
        "  print('La medida corresponde a un tronco de Cedro')\n",
        "else:\n",
        "  print('La medida corresponde a un tronco de Roble')"
      ],
      "execution_count": null,
      "outputs": [
        {
          "output_type": "stream",
          "name": "stdout",
          "text": [
            "La medida corresponde a un tronco de Cedro\n"
          ]
        }
      ]
    },
    {
      "cell_type": "markdown",
      "metadata": {
        "id": "uxt-TIoZETR7"
      },
      "source": [
        "## **Prueba básica de SVM SVC**\n",
        "> Generally, Support Vector Machines is considered to be a classification approach, it but can be employed in both types of classification and regression problems. It can easily handle multiple continuous and categorical variables. SVM constructs a hyperplane in multidimensional space to separate different classes. SVM generates optimal hyperplane in an iterative manner, which is used to minimize an error. The core idea of SVM is to find a maximum marginal hyperplane(MMH) that best divides the dataset into classes.\n",
        "[Fuente](https://www.datacamp.com/community/tutorials/svm-classification-scikit-learn-python?utm_source=adwords_ppc&utm_campaignid=1455363063&utm_adgroupid=65083631748&utm_device=c&utm_keyword=&utm_matchtype=b&utm_network=g&utm_adpostion=&utm_creative=332602034358&utm_targetid=aud-392016246653:dsa-429603003980&utm_loc_interest_ms=&utm_loc_physical_ms=1000112&gclid=CjwKCAjwj8eJBhA5EiwAg3z0m-T_ljFiA9Co9upgnifbPxk9TH7ZrcZyWiw365pXnMolxa3rPtbYpBoCcnsQAvD_BwE)\n",
        "\n"
      ]
    },
    {
      "cell_type": "code",
      "metadata": {
        "id": "fpEo9kanFWvP"
      },
      "source": [
        "from sklearn import svm, datasets, tree\n",
        "iris=datasets.load_iris()\n",
        "x=iris.data[:,:2] #usa de todo el dataset solo las 2 columnas que tienen datos de ancho y largo de la hoja de las flores\n",
        "y=iris.target #uso para clasficar el rotulado en 3 tipos de plantas, 1,2,3"
      ],
      "execution_count": 2,
      "outputs": []
    },
    {
      "cell_type": "code",
      "metadata": {
        "id": "ES5AOPFPFmxR"
      },
      "source": [
        "Clasificador=svm.SVC(kernel='linear')\n",
        "Clasificador.fit(x,y)"
      ],
      "execution_count": null,
      "outputs": []
    },
    {
      "cell_type": "code",
      "metadata": {
        "colab": {
          "base_uri": "https://localhost:8080/"
        },
        "id": "O9pQMoJvGPrL",
        "outputId": "7b227763-33fd-4c14-ad1d-5d2aed8578e7"
      },
      "source": [
        "Valor=Clasificador.predict([[20,2]])\n",
        "print('La medida se corresponde al tipo de planta', Valor)"
      ],
      "execution_count": null,
      "outputs": [
        {
          "output_type": "stream",
          "name": "stdout",
          "text": [
            "La medida se corresponde al tipo de planta [2]\n"
          ]
        }
      ]
    },
    {
      "cell_type": "code",
      "metadata": {
        "colab": {
          "base_uri": "https://localhost:8080/",
          "height": 300
        },
        "id": "PP1Ue8ORI_uw",
        "outputId": "fa28d49e-587d-4a56-df14-3ac0033c6e8d"
      },
      "source": [
        "plt.scatter(x[:,0],x[:,1],c=y) #grafica los valores que uso para entrenar\n",
        "plt.xlabel('largo de la hoja')\n",
        "plt.ylabel('ancho de la hoja')"
      ],
      "execution_count": null,
      "outputs": [
        {
          "output_type": "execute_result",
          "data": {
            "text/plain": [
              "Text(0, 0.5, 'ancho de la hoja')"
            ]
          },
          "metadata": {},
          "execution_count": 39
        },
        {
          "output_type": "display_data",
          "data": {
            "image/png": "[encoded data removed]",
            "text/plain": [
              "<Figure size 432x288 with 1 Axes>"
            ]
          },
          "metadata": {
            "needs_background": "light"
          }
        }
      ]
    },
    {
      "cell_type": "markdown",
      "metadata": {
        "id": "Sk4Hdi4lXMs8"
      },
      "source": [
        "## **Prueba básica de un árbol de desición**\n",
        "> **What is a classifier?**\n",
        "A classifier algorithm is used to map input data to a target variable through decision rules and can be used to predict and understand what characteristics are associated with a specific class or target. This means that it is a supervised machine learning algorithm as we already have the final labels, we just want to know how they may be predicted. For our purpose, we can use the Decision Tree Classifier to predict the type of iris flower we have based on features of: Petal Length, Petal Width, Sepal Length and Sepal Width.\n",
        "**What is a decision tree?**\n",
        "A decision tree a tree like structure whereby an internal node represents an attribute, a branch represents a decision rule, and the leaf nodes represent an outcome. This works by splitting the data into separate partitions according to an attribute selection measure, which in this case is the Gini index (although we can change this to information gain if we wanted). This essentially means that we each split aims toreduce Gini impurity which measures how impure a node is according to incorrectly classified results.\n",
        "[Fuente](https://towardsdatascience.com/introduction-to-decision-tree-classifiers-from-scikit-learn-32cd5d23f4d)\n"
      ]
    },
    {
      "cell_type": "code",
      "metadata": {
        "id": "oX1NQzX-Wsdy"
      },
      "source": [
        "from sklearn.model_selection import train_test_split\n",
        "#Importa la característica de split para el set de datos (split de datos armando un set para entrenamiento y otro set pada testearlo)"
      ],
      "execution_count": 3,
      "outputs": []
    },
    {
      "cell_type": "code",
      "metadata": {
        "id": "3KYiATa5Xo7W"
      },
      "source": [
        "x=iris.data #importamos todos los datos de las plantas de flores\n",
        "y=iris.target #las etiquetas o label"
      ],
      "execution_count": 4,
      "outputs": []
    },
    {
      "cell_type": "code",
      "metadata": {
        "id": "8WbXokOEX4qe"
      },
      "source": [
        "x_train, x_test, y_train, y_test = train_test_split(x,y,random_state=0) #arma los set datos para test y entrenamiento"
      ],
      "execution_count": 5,
      "outputs": []
    },
    {
      "cell_type": "code",
      "metadata": {
        "id": "8lFe9GfLYlQB"
      },
      "source": [
        "Clasificador=tree.DecisionTreeClassifier() #se importa el algoritmo"
      ],
      "execution_count": 9,
      "outputs": []
    },
    {
      "cell_type": "code",
      "metadata": {
        "colab": {
          "base_uri": "https://localhost:8080/"
        },
        "id": "C0_oU8Z9Yx2S",
        "outputId": "a59c8751-4e43-4a8f-a61f-e8ee935cb676"
      },
      "source": [
        "Clasificador.fit(x_train, y_train) #entrena el algoritmo"
      ],
      "execution_count": 10,
      "outputs": [
        {
          "output_type": "execute_result",
          "data": {
            "text/plain": [
              "DecisionTreeClassifier(ccp_alpha=0.0, class_weight=None, criterion='gini',\n",
              "                       max_depth=None, max_features=None, max_leaf_nodes=None,\n",
              "                       min_impurity_decrease=0.0, min_impurity_split=None,\n",
              "                       min_samples_leaf=1, min_samples_split=2,\n",
              "                       min_weight_fraction_leaf=0.0, presort='deprecated',\n",
              "                       random_state=None, splitter='best')"
            ]
          },
          "metadata": {},
          "execution_count": 10
        }
      ]
    },
    {
      "cell_type": "code",
      "metadata": {
        "id": "rShfemanY8JL"
      },
      "source": [
        "Prediccion=Clasificador.predict(x_test) #se usa el set de test para evaluar la predicciòn de los datos. Que target tiene en funciòn de las caracterìsticas de la planta"
      ],
      "execution_count": 11,
      "outputs": []
    },
    {
      "cell_type": "code",
      "metadata": {
        "colab": {
          "base_uri": "https://localhost:8080/"
        },
        "id": "4C1u7e0tZYoV",
        "outputId": "4d999b41-b954-4d04-cffc-546118b273f1"
      },
      "source": [
        "Prediccion"
      ],
      "execution_count": 12,
      "outputs": [
        {
          "output_type": "execute_result",
          "data": {
            "text/plain": [
              "array([2, 1, 0, 2, 0, 2, 0, 1, 1, 1, 2, 1, 1, 1, 1, 0, 1, 1, 0, 0, 2, 1,\n",
              "       0, 0, 2, 0, 0, 1, 1, 0, 2, 1, 0, 2, 2, 1, 0, 2])"
            ]
          },
          "metadata": {},
          "execution_count": 12
        }
      ]
    },
    {
      "cell_type": "code",
      "metadata": {
        "id": "tkJLqQVqZ2EI"
      },
      "source": [
        "from sklearn.metrics import accuracy_score #funciòn que permite obtener el medir la efectividad de la predicciòn comparando con los datos conocidos usados para test"
      ],
      "execution_count": 13,
      "outputs": []
    },
    {
      "cell_type": "code",
      "metadata": {
        "colab": {
          "base_uri": "https://localhost:8080/"
        },
        "id": "3-roGz8yaIr4",
        "outputId": "8e9bfa27-8281-4b03-c8dd-199ce5ed83f4"
      },
      "source": [
        "acc=accuracy_score(Prediccion,y_test) #resultados de la predicciòn y set de test de target.\n",
        "print(acc) #97% de efectividad"
      ],
      "execution_count": 15,
      "outputs": [
        {
          "output_type": "stream",
          "name": "stdout",
          "text": [
            "0.9736842105263158\n"
          ]
        }
      ]
    },
    {
      "cell_type": "markdown",
      "metadata": {
        "id": "E9mrD-yAgLLD"
      },
      "source": [
        "## **Random Forest**\n",
        "> Random forests is a supervised learning algorithm. It can be used both for classification and regression. It is also the most flexible and easy to use algorithm. A forest is comprised of trees. It is said that the more trees it has, the more robust a forest is. Random forests creates decision trees on randomly selected data samples, gets prediction from each tree and selects the best solution by means of voting. It also provides a pretty good indicator of the feature importance. [Fuente](https://www.datacamp.com/community/tutorials/random-forests-classifier-python?utm_source=adwords_ppc&utm_campaignid=1455363063&utm_adgroupid=65083631748&utm_device=c&utm_keyword=&utm_matchtype=b&utm_network=g&utm_adpostion=&utm_creative=332602034358&utm_targetid=aud-392016246653:dsa-429603003980&utm_loc_interest_ms=&utm_loc_physical_ms=1000112&gclid=CjwKCAjwj8eJBhA5EiwAg3z0m1UQWSrIuLbRDYufCP9N5Y0biHbHiD08ZzDLHi6QscSP3LVcuYfizhoCbxIQAvD_BwE)\n",
        "\n"
      ]
    },
    {
      "cell_type": "code",
      "metadata": {
        "id": "TbyLzyBLgKcU"
      },
      "source": [
        "from sklearn.ensemble import RandomForestClassifier"
      ],
      "execution_count": 17,
      "outputs": []
    },
    {
      "cell_type": "code",
      "metadata": {
        "id": "YnkRua5ugdfV"
      },
      "source": [
        "Clasificador=RandomForestClassifier(n_estimators=100) #número de arboles de descición in the forest"
      ],
      "execution_count": 19,
      "outputs": []
    },
    {
      "cell_type": "code",
      "metadata": {
        "id": "I6xf53l1gunX"
      },
      "source": [
        "Clasificador.fit(x_train,y_train)"
      ],
      "execution_count": null,
      "outputs": []
    },
    {
      "cell_type": "code",
      "metadata": {
        "id": "u1bMlmSYhR-C"
      },
      "source": [
        "Prediccion=Clasificador.predict(x_test)\n"
      ],
      "execution_count": 21,
      "outputs": []
    },
    {
      "cell_type": "code",
      "metadata": {
        "colab": {
          "base_uri": "https://localhost:8080/"
        },
        "id": "nhRcJCX6hVXh",
        "outputId": "24763c79-763f-48b8-983a-930bd66e6cfb"
      },
      "source": [
        "acc=accuracy_score(Prediccion,y_test)\n",
        "print(acc)"
      ],
      "execution_count": 23,
      "outputs": [
        {
          "output_type": "stream",
          "name": "stdout",
          "text": [
            "0.9736842105263158\n"
          ]
        }
      ]
    }
  ]
}