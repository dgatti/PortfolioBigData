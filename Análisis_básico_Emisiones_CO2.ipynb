{
  "nbformat": 4,
  "nbformat_minor": 0,
  "metadata": {
    "colab": {
      "name": "Análisis básico - Emisiones CO2.ipynb",
      "provenance": [],
      "mount_file_id": "1lgXuHDVgTYPuTIInDPDy_dSBrqRox2oi",
      "authorship_tag": "ABX9TyOii/okQM+MkNDzH1OoHhhG",
      "include_colab_link": true
    },
    "kernelspec": {
      "name": "python3",
      "display_name": "Python 3"
    },
    "language_info": {
      "name": "python"
    }
  },
  "cells": [
    {
      "cell_type": "markdown",
      "metadata": {
        "id": "view-in-github",
        "colab_type": "text"
      },
      "source": [
        "<a href=\"https://colab.research.google.com/github/dgatti/PortfolioBigData/blob/main/An%C3%A1lisis_b%C3%A1sico_Emisiones_CO2.ipynb\" target=\"_parent\"><img src=\"https://colab.research.google.com/assets/colab-badge.svg\" alt=\"Open In Colab\"/></a>"
      ]
    },
    {
      "cell_type": "code",
      "metadata": {
        "id": "ZRqmhfpKMF-B"
      },
      "source": [
        "import numpy as np\n",
        "import pandas as pd\n",
        "import matplotlib.pyplot as plt"
      ],
      "execution_count": 23,
      "outputs": []
    },
    {
      "cell_type": "markdown",
      "metadata": {
        "id": "ltruLYa6MSL9"
      },
      "source": [
        " **Emisiones de CO2 por país comparadas con la población**\n",
        " "
      ]
    },
    {
      "cell_type": "code",
      "metadata": {
        "id": "u9jGxAZOMhMN"
      },
      "source": [
        "datos=pd.read_csv(\"/content/drive/MyDrive/Curso Python/Indicators.csv\")"
      ],
      "execution_count": 24,
      "outputs": []
    },
    {
      "cell_type": "code",
      "metadata": {
        "colab": {
          "base_uri": "https://localhost:8080/",
          "height": 202
        },
        "id": "BysWLcatQREA",
        "outputId": "f754bfad-0701-40eb-bcf1-ea274cc0cbbc"
      },
      "source": [
        "datos.head()"
      ],
      "execution_count": 25,
      "outputs": [
        {
          "output_type": "execute_result",
          "data": {
            "text/html": [
              "<div>\n",
              "<style scoped>\n",
              "    .dataframe tbody tr th:only-of-type {\n",
              "        vertical-align: middle;\n",
              "    }\n",
              "\n",
              "    .dataframe tbody tr th {\n",
              "        vertical-align: top;\n",
              "    }\n",
              "\n",
              "    .dataframe thead th {\n",
              "        text-align: right;\n",
              "    }\n",
              "</style>\n",
              "<table border=\"1\" class=\"dataframe\">\n",
              "  <thead>\n",
              "    <tr style=\"text-align: right;\">\n",
              "      <th></th>\n",
              "      <th>CountryName</th>\n",
              "      <th>CountryCode</th>\n",
              "      <th>IndicatorName</th>\n",
              "      <th>IndicatorCode</th>\n",
              "      <th>Year</th>\n",
              "      <th>Value</th>\n",
              "    </tr>\n",
              "  </thead>\n",
              "  <tbody>\n",
              "    <tr>\n",
              "      <th>0</th>\n",
              "      <td>Arab World</td>\n",
              "      <td>ARB</td>\n",
              "      <td>Adolescent fertility rate (births per 1,000 wo...</td>\n",
              "      <td>SP.ADO.TFRT</td>\n",
              "      <td>1960</td>\n",
              "      <td>1.335609e+02</td>\n",
              "    </tr>\n",
              "    <tr>\n",
              "      <th>1</th>\n",
              "      <td>Arab World</td>\n",
              "      <td>ARB</td>\n",
              "      <td>Age dependency ratio (% of working-age populat...</td>\n",
              "      <td>SP.POP.DPND</td>\n",
              "      <td>1960</td>\n",
              "      <td>8.779760e+01</td>\n",
              "    </tr>\n",
              "    <tr>\n",
              "      <th>2</th>\n",
              "      <td>Arab World</td>\n",
              "      <td>ARB</td>\n",
              "      <td>Age dependency ratio, old (% of working-age po...</td>\n",
              "      <td>SP.POP.DPND.OL</td>\n",
              "      <td>1960</td>\n",
              "      <td>6.634579e+00</td>\n",
              "    </tr>\n",
              "    <tr>\n",
              "      <th>3</th>\n",
              "      <td>Arab World</td>\n",
              "      <td>ARB</td>\n",
              "      <td>Age dependency ratio, young (% of working-age ...</td>\n",
              "      <td>SP.POP.DPND.YG</td>\n",
              "      <td>1960</td>\n",
              "      <td>8.102333e+01</td>\n",
              "    </tr>\n",
              "    <tr>\n",
              "      <th>4</th>\n",
              "      <td>Arab World</td>\n",
              "      <td>ARB</td>\n",
              "      <td>Arms exports (SIPRI trend indicator values)</td>\n",
              "      <td>MS.MIL.XPRT.KD</td>\n",
              "      <td>1960</td>\n",
              "      <td>3.000000e+06</td>\n",
              "    </tr>\n",
              "  </tbody>\n",
              "</table>\n",
              "</div>"
            ],
            "text/plain": [
              "  CountryName CountryCode  ...  Year         Value\n",
              "0  Arab World         ARB  ...  1960  1.335609e+02\n",
              "1  Arab World         ARB  ...  1960  8.779760e+01\n",
              "2  Arab World         ARB  ...  1960  6.634579e+00\n",
              "3  Arab World         ARB  ...  1960  8.102333e+01\n",
              "4  Arab World         ARB  ...  1960  3.000000e+06\n",
              "\n",
              "[5 rows x 6 columns]"
            ]
          },
          "metadata": {},
          "execution_count": 25
        }
      ]
    },
    {
      "cell_type": "code",
      "metadata": {
        "id": "N1wB0mNmQaen"
      },
      "source": [
        "key_pobl='Population, total'\n",
        "key_emision='CO2 emissions \\(kt'\n",
        "pais='ARG'"
      ],
      "execution_count": 73,
      "outputs": []
    },
    {
      "cell_type": "markdown",
      "metadata": {
        "id": "p8pLlLRGSsPs"
      },
      "source": [
        "**Se generan los 2 DataSet que van a formar parte del gráfico**"
      ]
    },
    {
      "cell_type": "code",
      "metadata": {
        "id": "xPGHkFVAMvD3"
      },
      "source": [
        "Filtro_Poblacion=datos['IndicatorName'].str.contains(key_pobl)\n",
        "Filtro_Pais=datos['CountryCode'].str.contains(pais) \n",
        "datos_Filtro_Poblacion=datos[Filtro_Poblacion & Filtro_Pais]\n"
      ],
      "execution_count": 49,
      "outputs": []
    },
    {
      "cell_type": "code",
      "metadata": {
        "colab": {
          "base_uri": "https://localhost:8080/",
          "height": 202
        },
        "id": "RXwPpWh3UM0C",
        "outputId": "f371ff36-5f3e-477a-ad76-1735efd2595d"
      },
      "source": [
        "datos_Filtro_Poblacion.head()"
      ],
      "execution_count": 34,
      "outputs": [
        {
          "output_type": "execute_result",
          "data": {
            "text/html": [
              "<div>\n",
              "<style scoped>\n",
              "    .dataframe tbody tr th:only-of-type {\n",
              "        vertical-align: middle;\n",
              "    }\n",
              "\n",
              "    .dataframe tbody tr th {\n",
              "        vertical-align: top;\n",
              "    }\n",
              "\n",
              "    .dataframe thead th {\n",
              "        text-align: right;\n",
              "    }\n",
              "</style>\n",
              "<table border=\"1\" class=\"dataframe\">\n",
              "  <thead>\n",
              "    <tr style=\"text-align: right;\">\n",
              "      <th></th>\n",
              "      <th>CountryName</th>\n",
              "      <th>CountryCode</th>\n",
              "      <th>IndicatorName</th>\n",
              "      <th>IndicatorCode</th>\n",
              "      <th>Year</th>\n",
              "      <th>Value</th>\n",
              "    </tr>\n",
              "  </thead>\n",
              "  <tbody>\n",
              "    <tr>\n",
              "      <th>5800</th>\n",
              "      <td>Brazil</td>\n",
              "      <td>BRA</td>\n",
              "      <td>Population, total</td>\n",
              "      <td>SP.POP.TOTL</td>\n",
              "      <td>1960</td>\n",
              "      <td>72493585.0</td>\n",
              "    </tr>\n",
              "    <tr>\n",
              "      <th>29893</th>\n",
              "      <td>Brazil</td>\n",
              "      <td>BRA</td>\n",
              "      <td>Population, total</td>\n",
              "      <td>SP.POP.TOTL</td>\n",
              "      <td>1961</td>\n",
              "      <td>74706888.0</td>\n",
              "    </tr>\n",
              "    <tr>\n",
              "      <th>56944</th>\n",
              "      <td>Brazil</td>\n",
              "      <td>BRA</td>\n",
              "      <td>Population, total</td>\n",
              "      <td>SP.POP.TOTL</td>\n",
              "      <td>1962</td>\n",
              "      <td>77007549.0</td>\n",
              "    </tr>\n",
              "    <tr>\n",
              "      <th>85331</th>\n",
              "      <td>Brazil</td>\n",
              "      <td>BRA</td>\n",
              "      <td>Population, total</td>\n",
              "      <td>SP.POP.TOTL</td>\n",
              "      <td>1963</td>\n",
              "      <td>79368453.0</td>\n",
              "    </tr>\n",
              "    <tr>\n",
              "      <th>114044</th>\n",
              "      <td>Brazil</td>\n",
              "      <td>BRA</td>\n",
              "      <td>Population, total</td>\n",
              "      <td>SP.POP.TOTL</td>\n",
              "      <td>1964</td>\n",
              "      <td>81751802.0</td>\n",
              "    </tr>\n",
              "  </tbody>\n",
              "</table>\n",
              "</div>"
            ],
            "text/plain": [
              "       CountryName CountryCode  ...  Year       Value\n",
              "5800        Brazil         BRA  ...  1960  72493585.0\n",
              "29893       Brazil         BRA  ...  1961  74706888.0\n",
              "56944       Brazil         BRA  ...  1962  77007549.0\n",
              "85331       Brazil         BRA  ...  1963  79368453.0\n",
              "114044      Brazil         BRA  ...  1964  81751802.0\n",
              "\n",
              "[5 rows x 6 columns]"
            ]
          },
          "metadata": {},
          "execution_count": 34
        }
      ]
    },
    {
      "cell_type": "code",
      "metadata": {
        "id": "sifFIkWXRwM-"
      },
      "source": [
        "Filtro_Emision=datos['IndicatorName'].str.contains(key_emision)\n",
        "Filtro_Pais=datos['CountryCode'].str.contains(pais) \n",
        "datos_Filtro_Emision=datos[Filtro_Emision & Filtro_Pais]"
      ],
      "execution_count": 74,
      "outputs": []
    },
    {
      "cell_type": "code",
      "metadata": {
        "colab": {
          "base_uri": "https://localhost:8080/",
          "height": 202
        },
        "id": "_WX_2CMUUPyR",
        "outputId": "f0eaf6ee-e378-4808-b6b9-86c431295434"
      },
      "source": [
        "datos_Filtro_Emision.head()"
      ],
      "execution_count": 75,
      "outputs": [
        {
          "output_type": "execute_result",
          "data": {
            "text/html": [
              "<div>\n",
              "<style scoped>\n",
              "    .dataframe tbody tr th:only-of-type {\n",
              "        vertical-align: middle;\n",
              "    }\n",
              "\n",
              "    .dataframe tbody tr th {\n",
              "        vertical-align: top;\n",
              "    }\n",
              "\n",
              "    .dataframe thead th {\n",
              "        text-align: right;\n",
              "    }\n",
              "</style>\n",
              "<table border=\"1\" class=\"dataframe\">\n",
              "  <thead>\n",
              "    <tr style=\"text-align: right;\">\n",
              "      <th></th>\n",
              "      <th>CountryName</th>\n",
              "      <th>CountryCode</th>\n",
              "      <th>IndicatorName</th>\n",
              "      <th>IndicatorCode</th>\n",
              "      <th>Year</th>\n",
              "      <th>Value</th>\n",
              "    </tr>\n",
              "  </thead>\n",
              "  <tbody>\n",
              "    <tr>\n",
              "      <th>3974</th>\n",
              "      <td>Argentina</td>\n",
              "      <td>ARG</td>\n",
              "      <td>CO2 emissions (kt)</td>\n",
              "      <td>EN.ATM.CO2E.KT</td>\n",
              "      <td>1960</td>\n",
              "      <td>48815.104</td>\n",
              "    </tr>\n",
              "    <tr>\n",
              "      <th>27794</th>\n",
              "      <td>Argentina</td>\n",
              "      <td>ARG</td>\n",
              "      <td>CO2 emissions (kt)</td>\n",
              "      <td>EN.ATM.CO2E.KT</td>\n",
              "      <td>1961</td>\n",
              "      <td>51180.319</td>\n",
              "    </tr>\n",
              "    <tr>\n",
              "      <th>54660</th>\n",
              "      <td>Argentina</td>\n",
              "      <td>ARG</td>\n",
              "      <td>CO2 emissions (kt)</td>\n",
              "      <td>EN.ATM.CO2E.KT</td>\n",
              "      <td>1962</td>\n",
              "      <td>53695.881</td>\n",
              "    </tr>\n",
              "    <tr>\n",
              "      <th>83040</th>\n",
              "      <td>Argentina</td>\n",
              "      <td>ARG</td>\n",
              "      <td>CO2 emissions (kt)</td>\n",
              "      <td>EN.ATM.CO2E.KT</td>\n",
              "      <td>1963</td>\n",
              "      <td>50083.886</td>\n",
              "    </tr>\n",
              "    <tr>\n",
              "      <th>111731</th>\n",
              "      <td>Argentina</td>\n",
              "      <td>ARG</td>\n",
              "      <td>CO2 emissions (kt)</td>\n",
              "      <td>EN.ATM.CO2E.KT</td>\n",
              "      <td>1964</td>\n",
              "      <td>55727.399</td>\n",
              "    </tr>\n",
              "  </tbody>\n",
              "</table>\n",
              "</div>"
            ],
            "text/plain": [
              "       CountryName CountryCode  ...  Year      Value\n",
              "3974     Argentina         ARG  ...  1960  48815.104\n",
              "27794    Argentina         ARG  ...  1961  51180.319\n",
              "54660    Argentina         ARG  ...  1962  53695.881\n",
              "83040    Argentina         ARG  ...  1963  50083.886\n",
              "111731   Argentina         ARG  ...  1964  55727.399\n",
              "\n",
              "[5 rows x 6 columns]"
            ]
          },
          "metadata": {},
          "execution_count": 75
        }
      ]
    },
    {
      "cell_type": "code",
      "metadata": {
        "colab": {
          "base_uri": "https://localhost:8080/",
          "height": 294
        },
        "id": "qb8C0jVqTFqs",
        "outputId": "be4f6402-2c63-4bc1-c5cf-0e3dbca46784"
      },
      "source": [
        "ejex=datos_Filtro_Poblacion['Value'].values\n",
        "ejey=datos_Filtro_Emision['Value'].values\n",
        "\n",
        "limite=min(len(ejex),len(ejey))\n",
        "\n",
        "plt.xlabel(key_pobl)\n",
        "plt.ylabel(key_emision)\n",
        "plt.title(key_pobl + \" vs \" + key_emision + \" in \"+ pais)\n",
        "plt.scatter(ejex[:limite],ejey[:limite])\n",
        "plt.show()"
      ],
      "execution_count": 83,
      "outputs": [
        {
          "output_type": "display_data",
          "data": {
            "image/png": "[encoded data removed]",
            "text/plain": [
              "<Figure size 432x288 with 1 Axes>"
            ]
          },
          "metadata": {
            "needs_background": "light"
          }
        }
      ]
    }
  ]
}